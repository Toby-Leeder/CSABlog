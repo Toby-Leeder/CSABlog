{
 "cells": [
  {
   "cell_type": "markdown",
   "metadata": {},
   "source": [
    "---\n",
    "title: FRQ 1\n",
    "description: First FRQ for collegeboard FRQ final\n",
    "toc: true\n",
    "layout: post\n",
    "type: hacks\n",
    "courses: { ToC: {week: 23} }\n",
    "---"
   ]
  },
  {
   "cell_type": "code",
   "execution_count": 25,
   "metadata": {},
   "outputs": [
    {
     "name": "stdout",
     "output_type": "stream",
     "text": [
      "16\n",
      "16\n",
      "32\n",
      "28\n",
      "28\n",
      "[I@1c2bc87b\n",
      "false\n"
     ]
    }
   ],
   "source": [
    "public class main{\n",
    "    public static int arraySum(int[] arr){\n",
    "        int sum = 0;\n",
    "        for (int i : arr){\n",
    "            sum += i;\n",
    "        }\n",
    "        return sum;\n",
    "    }\n",
    "\n",
    "    public static int[] rowSums(int[][] Arr2D){\n",
    "        int[] sums = new int[Arr2D.length];\n",
    "        for (int i = 0; i < Arr2D.length; i ++){\n",
    "            sums[i] = arraySum(Arr2D[i]);\n",
    "        }\n",
    "        return sums;\n",
    "    }\n",
    "\n",
    "    public static boolean isDiverse(int[][] Arr2D){\n",
    "        int[] sums = rowSums(Arr2D);\n",
    "        for (int i = 0; i < sums.length; i ++){\n",
    "            for (int j = i + 1; j < sums.length; j ++){\n",
    "                if (sums[i] == sums[j]){\n",
    "                    return false;\n",
    "                }\n",
    "            }\n",
    "        }\n",
    "        return true;\n",
    "    }\n",
    "\n",
    "    public static void main(String args[]){\n",
    "        int[] arr = new int[]{1, 3, 2, 7, 3};\n",
    "        System.out.println(arraySum(arr));\n",
    "\n",
    "        int[][] Arr2D = {\n",
    "            {1, 3, 2, 7, 3},\n",
    "            {10, 10, 4, 6, 2},\n",
    "            {5, 3, 5, 9, 6},\n",
    "            {7, 10, 8, 2, 1}\n",
    "        };\n",
    "        for (int i : rowSums(Arr2D)){\n",
    "            System.out.println(i);\n",
    "        }\n",
    "        System.out.println(rowSums(Arr2D));\n",
    "\n",
    "        System.out.println(isDiverse(Arr2D));\n",
    "    }\n",
    "}  \n",
    "\n",
    "main.main(null)"
   ]
  },
  {
   "cell_type": "markdown",
   "metadata": {},
   "source": [
    "## Learnings:\n",
    "\n",
    "1. How to properly define an array. Originally I wrote it as: int[] arr = [1, 3, 2, 7, 3]; but it should actually be int[] arr = new int[]{1, 3, 2, 7, 3};\n",
    "2. How to properly define a 2d Array\n",
    "3. When initializing an Array I have to put int the length of it\n",
    "4. In order to find the length of array I use .length as a property not a method.\n",
    "5. No .append(), have to just set the value which works because the length of the array is already set. \n",
    "\n"
   ]
  },
  {
   "cell_type": "markdown",
   "metadata": {},
   "source": []
  }
 ],
 "metadata": {
  "kernelspec": {
   "display_name": "Java",
   "language": "java",
   "name": "java"
  },
  "language_info": {
   "codemirror_mode": "java",
   "file_extension": ".jshell",
   "mimetype": "text/x-java-source",
   "name": "java",
   "pygments_lexer": "java",
   "version": "20.0.2+9"
  }
 },
 "nbformat": 4,
 "nbformat_minor": 2
}
