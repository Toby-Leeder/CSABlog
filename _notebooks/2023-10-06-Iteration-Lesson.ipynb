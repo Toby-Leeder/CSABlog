{
 "cells": [
  {
   "cell_type": "markdown",
   "metadata": {},
   "source": [
    "---\n",
    "layout: post\n",
    "title: 4.4 and 4.5\n",
    "toc: true\n",
    "comments: true\n",
    "description: Lesson for APCSA Unit 4\n",
    "courses: { csa: {week: 8} }\n",
    "type: tangibles\n",
    "---"
   ]
  },
  {
   "cell_type": "markdown",
   "metadata": {},
   "source": [
    "# 4.4: Nested Iteration\n",
    "**Learning Objective**: Represent nested iteration processes\n",
    "\n",
    "Essential Knowledge:\n",
    "- Nested iteration is when an iteration statement appears inside the body of another iteration statement\n",
    "- The inner loop must complete all of its iterations before the outer loop can continue. \n",
    "\n",
    "**Before uncommenting the code, guess what the output will look like:**\n",
    "\n",
    "\n",
    "(write your guess here)"
   ]
  },
  {
   "cell_type": "code",
   "execution_count": null,
   "metadata": {},
   "outputs": [],
   "source": [
    "public class NestedLoops{\n",
    "\n",
    "    public static void main(String[] args){\n",
    "\n",
    "        // for (int outer = 1; outer < 5; outer++){\n",
    "\n",
    "        //     for (int inner = 1; inner < 3; inner++){\n",
    "                \n",
    "        //         System.out.print(inner + \" \");\n",
    "        //     }\n",
    "\n",
    "        //     System.out.println();\n",
    "\n",
    "        // } \n",
    "\n",
    "    }\n",
    "}\n",
    "\n",
    "NestedLoops.main(null)"
   ]
  },
  {
   "cell_type": "markdown",
   "metadata": {},
   "source": [
    "**What will the output of the code above be if we switch the loop headers (the stuff inside of the for loop)?**\n",
    "\n",
    "(Write your guess here)\n",
    "\n",
    "**After making a prediction actually switch the loop headers for yourself. What do you notice about the output compared to the output before the change?**"
   ]
  },
  {
   "cell_type": "markdown",
   "metadata": {},
   "source": [
    "# 4.5: Informal Code Analysis\n",
    "\n",
    "Essential Knowledge:\n",
    "- A statement exectution count indicates the number of times a statement is executed by the program\n",
    "\n"
   ]
  },
  {
   "cell_type": "code",
   "execution_count": null,
   "metadata": {},
   "outputs": [],
   "source": [
    "for (int outer = 0; outer < 3; outer++){\n",
    "    for (int inner = 0; inner < 4; inner++){\n",
    "        // statement #1\n",
    "    }\n",
    "}"
   ]
  },
  {
   "cell_type": "markdown",
   "metadata": {},
   "source": [
    "**In the code above, how many times will the inner loop execute when outer = 0?** 4\n",
    "\n",
    "**In the code above, how many times will the inner loop execute when outer = 1?** 4  \n",
    "\n",
    "**In the code above, how many times will the inner loop execute when outer = 2?** 4  \n",
    "\n",
    "**In the code above, how many times will the inner loop execute in total?** 12\n"
   ]
  },
  {
   "cell_type": "code",
   "execution_count": null,
   "metadata": {},
   "outputs": [],
   "source": [
    "for (int outer = 5; outer > 0; outer--){\n",
    "    for (int inner = 0; inner < outer; inner++){\n",
    "        // statement #1\n",
    "    }\n",
    "}"
   ]
  },
  {
   "cell_type": "markdown",
   "metadata": {},
   "source": [
    "**In the code above, how many times will the inner loop execute when outer = 5?** 5  \n",
    "\n",
    "**In the code above, how many times will the inner loop execute when outer = 4?** 4  \n",
    "\n",
    "**In the code above, how many times will the inner loop execute when outer = 3?** 3  \n",
    "\n",
    "**In the code above, how many times will the inner loop execute in total?** 15"
   ]
  },
  {
   "cell_type": "code",
   "execution_count": null,
   "metadata": {},
   "outputs": [],
   "source": [
    "int k = 0;\n",
    "while (k < 5){\n",
    "    int x = (int)(Math.random()*6) + 1;\n",
    "    while (x != 6){\n",
    "        //statement #1\n",
    "        x = (int)(Math.random()*6) + 1;\n",
    "    }\n",
    "    k++;\n",
    "}"
   ]
  },
  {
   "cell_type": "markdown",
   "metadata": {},
   "source": [
    "**In the code above, how many times will the statement #1 execute?** We can't tell, since it's based on rng"
   ]
  },
  {
   "cell_type": "code",
   "execution_count": null,
   "metadata": {},
   "outputs": [],
   "source": [
    "for (int k = 0; k < 135; k++){\n",
    "    if (k % 5 == 0){ // Statement #1\n",
    "        System.out.print(k); // Statement #2\n",
    "    }\n",
    "}"
   ]
  },
  {
   "cell_type": "markdown",
   "metadata": {},
   "source": [
    "**In the code above, how many times will the statement #1 execute?** 135  \n",
    "\n",
    "**In the code above, how many times will the statement #2 execute?** 27\n",
    "\n",
    "Rewrite the code above to be more effecient based on execution count. \n"
   ]
  },
  {
   "cell_type": "code",
   "execution_count": null,
   "metadata": {},
   "outputs": [],
   "source": [
    "for (int k = 0; k < 135; k+=5){\n",
    "    System.out.print(k); // Statement #2\n",
    "}"
   ]
  }
 ],
 "metadata": {
  "kernelspec": {
   "display_name": "Java",
   "language": "java",
   "name": "java"
  },
  "language_info": {
   "codemirror_mode": "java",
   "file_extension": ".jshell",
   "mimetype": "text/x-java-source",
   "name": "java",
   "pygments_lexer": "java",
   "version": "11.0.12+7"
  }
 },
 "nbformat": 4,
 "nbformat_minor": 2
}
