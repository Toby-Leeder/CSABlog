{
 "cells": [
  {
   "cell_type": "markdown",
   "metadata": {},
   "source": [
    "---\n",
    "toc: true\n",
    "comments: true\n",
    "layout: post\n",
    "title: Unit 4 Lesson Presentation\n",
    "type: tangibles\n",
    "courses: { CSA: {week: 8} }\n",
    "---"
   ]
  },
  {
   "cell_type": "markdown",
   "metadata": {},
   "source": [
    "## 4.4 Nested Iteration\n",
    "\n",
    "Essential Knowledge:\n",
    "- Nested iteration is when an _________ statement appears inside the body of another iteration statement\n",
    "- The inner loop must run complete ___ of its iterations before the outer loop can continue. \n",
    "\n",
    "Before uncommenting the code, guess what the output will look like:\n"
   ]
  },
  {
   "cell_type": "code",
   "execution_count": 3,
   "metadata": {},
   "outputs": [],
   "source": [
    "public class NestedLoops{\n",
    "\n",
    "    public static void main(String[] args){\n",
    "\n",
    "        // for (int outer = 1; outer < 5; outer++){\n",
    "\n",
    "        //     for (int inner = 1; inner < 3; inner++){\n",
    "                \n",
    "        //         System.out.print(inner + \" \");\n",
    "        //     }\n",
    "\n",
    "        //     System.out.println();\n",
    "\n",
    "        // } \n",
    "\n",
    "    }\n",
    "}\n",
    "\n",
    "NestedLoops.main(null)"
   ]
  },
  {
   "cell_type": "markdown",
   "metadata": {},
   "source": [
    "What will the output of the code above be if we switch the loop headers (the stuff inside of the for loop)? \n",
    "\n",
    "\n",
    "\n",
    "After making a prediction actually switch the loop headers for yourself. What do you notice about the output compared to the output before the change?\n",
    "\n",
    "\n"
   ]
  },
  {
   "cell_type": "markdown",
   "metadata": {},
   "source": [
    "## 4.5 Informal Code Analysis\n",
    "\n",
    "Essential Knowledge:\n",
    "- A statement exectution count indicates the ______ of times a statement is executed by the program\n",
    "\n"
   ]
  },
  {
   "cell_type": "code",
   "execution_count": null,
   "metadata": {},
   "outputs": [],
   "source": [
    "for (int outer = 0; outer < 3; outer++){\n",
    "    for (int inner = 0; inner < 4; inner++){\n",
    "        // statement #1\n",
    "    }\n",
    "}"
   ]
  },
  {
   "cell_type": "markdown",
   "metadata": {},
   "source": [
    "In the code above, how many times will the inner loop execute when outer = 0? ____ \n",
    "\n",
    "In the code above, how many times will the inner loop execute when outer = 1? ____  \n",
    "\n",
    "In the code above, how many times will the inner loop execute when outer = 2? ____  \n",
    "\n",
    "In the code above, how many times will the inner loop execute in total? ____  \n"
   ]
  },
  {
   "cell_type": "code",
   "execution_count": null,
   "metadata": {},
   "outputs": [],
   "source": [
    "for (int outer = 5; outer > 0; outer--){\n",
    "    for (int inner = 0; inner < outer; inner++){\n",
    "        // statement #1\n",
    "    }\n",
    "}"
   ]
  },
  {
   "cell_type": "markdown",
   "metadata": {},
   "source": [
    "In the code above, how many times will the inner loop execute when outer = 5? ____  \n",
    "\n",
    "In the code above, how many times will the inner loop execute when outer = 4? ____  \n",
    "\n",
    "In the code above, how many times will the inner loop execute when outer = 3? ____  \n",
    "\n",
    "In the code above, how many times will the inner loop execute in total? ____\n"
   ]
  },
  {
   "cell_type": "code",
   "execution_count": 4,
   "metadata": {},
   "outputs": [],
   "source": [
    "int k = 0;\n",
    "while (k < 5){\n",
    "    int x = (int)(Math.random()*6) + 1;\n",
    "    while (x != 6){\n",
    "        //statement #1\n",
    "        x = (int)(Math.random()*6) + 1;\n",
    "    }\n",
    "    k++;\n",
    "}"
   ]
  },
  {
   "cell_type": "markdown",
   "metadata": {},
   "source": [
    "In the code above, how many times will the statement #1 execute? ____"
   ]
  },
  {
   "cell_type": "code",
   "execution_count": 6,
   "metadata": {},
   "outputs": [],
   "source": [
    "for (int k = 0; k < 135; k++){\n",
    "    if (k % 5 == 0){\n",
    "        System.out.println(k); // Statement #1\n",
    "    }\n",
    "}"
   ]
  },
  {
   "cell_type": "markdown",
   "metadata": {},
   "source": [
    "In the code above, how many times will the statement #1 execute? ____\n",
    "\n",
    "Rewrite the code above to make it more efficient using a for loop. "
   ]
  }
 ],
 "metadata": {
  "kernelspec": {
   "display_name": "Java",
   "language": "java",
   "name": "java"
  },
  "language_info": {
   "codemirror_mode": "java",
   "file_extension": ".jshell",
   "mimetype": "text/x-java-source",
   "name": "java",
   "pygments_lexer": "java",
   "version": "20.0.2+9"
  },
  "orig_nbformat": 4
 },
 "nbformat": 4,
 "nbformat_minor": 2
}
