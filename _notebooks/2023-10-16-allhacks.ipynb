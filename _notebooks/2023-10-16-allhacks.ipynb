{
 "cells": [
  {
   "attachments": {},
   "cell_type": "markdown",
   "metadata": {},
   "source": [
    "---\n",
    "toc: true\n",
    "comments: true\n",
    "layout: post\n",
    "title: Unit 5 Lesson HACKS\n",
    "---"
   ]
  },
  {
   "attachments": {},
   "cell_type": "markdown",
   "metadata": {},
   "source": [
    "# Hacks"
   ]
  },
  {
   "attachments": {},
   "cell_type": "markdown",
   "metadata": {},
   "source": [
    "**5.1-5.3 Hacks**\n",
    "\n",
    "**POPCORN HACKS: 0.2**\n",
    "\n",
    "**Create a simple To-Do List that utilizes the following (0.8):**\n",
    "\n",
    "1. Private and Public Declaration\n",
    "\n",
    "2. Constructor\n",
    "\n",
    "3. Mutable Array containing To-Do List Items\n",
    "\n",
    "Make sure to add descriptive comments that are describing your code!"
   ]
  },
  {
   "attachments": {},
   "cell_type": "markdown",
   "metadata": {},
   "source": [
    "**5.9-5.10 Hacks**\n",
    "\n",
    "**POPCORN HACKS: 0.2**\n",
    "\n",
    "**Write a two sentence reflection on the social and ethical implications of programming. (0.8)**"
   ]
  },
  {
   "cell_type": "code",
   "execution_count": 19,
   "metadata": {},
   "outputs": [
    {
     "name": "stdout",
     "output_type": "stream",
     "text": [
      "Task Name: AP Stats Homework\n",
      "Deadline: 10/10/2024\n",
      "Estimated Time: 0.5 hours \n",
      "\n",
      "Task Name: AP Physics Homework\n",
      "Deadline: 12/10/2024\n",
      "Estimated Time: 100.0 hours \n",
      "\n"
     ]
    }
   ],
   "source": [
    "public class Task{\n",
    "    public String deadline;\n",
    "    public String taskName;\n",
    "    public double timeEstimate;\n",
    "\n",
    "    public Task(String deadline, String taskName, double timeEstimate){\n",
    "        this.deadline = deadline;\n",
    "        this.taskName = taskName;\n",
    "        this.timeEstimate = timeEstimate;\n",
    "    }\n",
    "}\n",
    "\n",
    "public class ToDo{\n",
    "    private ArrayList<Task> Tasks = new ArrayList<>();\n",
    "\n",
    "    public ToDo(){\n",
    "        Task task = new Task(\"10/10/2024\", \"AP Stats Homework\", 0.5);\n",
    "        Tasks.add(task);\n",
    "        return;\n",
    "    }\n",
    "\n",
    "    public void newTask(Task task){\n",
    "        Tasks.add(task);\n",
    "        return;\n",
    "    }\n",
    "\n",
    "    public ArrayList<Task> getTasks(){\n",
    "        return this.Tasks;\n",
    "    }\n",
    "\n",
    "    public static void main(String[] args){\n",
    "        ToDo toDo = new ToDo();\n",
    "        Task physics = new Task(\"12/10/2024\", \"AP Physics Homework\", 100);\n",
    "        toDo.newTask(physics);\n",
    "        for (Task task : toDo.getTasks()){\n",
    "            System.out.println(\"Task Name: \" + task.taskName + \"\\nDeadline: \" + task.deadline + \"\\nEstimated Time: \" + task.timeEstimate + \" hours \\n\");\n",
    "        }\n",
    "    }\n",
    "}\n",
    "\n",
    "ToDo.main(null)"
   ]
  },
  {
   "cell_type": "markdown",
   "metadata": {},
   "source": [
    "There are many negative social and ethical implications of programming, with many of the major issues coming down to data privacy. Data can be very useful, possibly even necessary, for certain projects to run effectively, but it's important to remain ethical in our use of private user data and to comply with laws. "
   ]
  }
 ],
 "metadata": {
  "kernelspec": {
   "display_name": "Java",
   "language": "java",
   "name": "java"
  },
  "language_info": {
   "codemirror_mode": "java",
   "file_extension": ".jshell",
   "mimetype": "text/x-java-source",
   "name": "java",
   "pygments_lexer": "java",
   "version": "20.0.2+9"
  },
  "orig_nbformat": 4,
  "vscode": {
   "interpreter": {
    "hash": "e7370f93d1d0cde622a1f8e1c04877d8463912d04d973331ad4851f04de6915a"
   }
  }
 },
 "nbformat": 4,
 "nbformat_minor": 2
}
