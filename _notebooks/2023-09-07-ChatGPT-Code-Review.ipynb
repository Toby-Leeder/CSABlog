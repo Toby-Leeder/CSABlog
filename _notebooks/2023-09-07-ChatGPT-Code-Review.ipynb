{
 "cells": [
  {
   "cell_type": "markdown",
   "metadata": {},
   "source": [
    "---\n",
    "title: ChatGPT Code Review\n",
    "toc: true\n",
    "description: I asked ChatGPT to review my code!\n",
    "courses: { ToC: {week: 3} }\n",
    "type: hacks\n",
    "---"
   ]
  },
  {
   "cell_type": "markdown",
   "metadata": {},
   "source": [
    "# First Question\n",
    "In my testing I ended up confusing myself on which part of my code would actually send the request to the spotify api for the user to login to their account. I asked ChatGPT for help. \n",
    "\n",
    "Prompt: \"I'm trying to write code to connect to the spotify and I'm working on using the PCKE Authorization method. I want to make the redirect to the spotify login page happen on a button press and even though I added an event listener, it still happens as soon as I load into the page. Which part of my code is triggering the spotify login or are there multiple parts that separately trigger it?\" Followed by my code."
   ]
  },
  {
   "cell_type": "code",
   "execution_count": null,
   "metadata": {
    "vscode": {
     "languageId": "plaintext"
    }
   },
   "outputs": [],
   "source": []
  }
 ],
 "metadata": {
  "language_info": {
   "name": "python"
  },
  "orig_nbformat": 4
 },
 "nbformat": 4,
 "nbformat_minor": 2
}
