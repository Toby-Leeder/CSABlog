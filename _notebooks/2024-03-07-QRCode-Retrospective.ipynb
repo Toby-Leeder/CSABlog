{
 "cells": [
  {
   "cell_type": "markdown",
   "metadata": {},
   "source": [
    "---\n",
    "title: QR code retrospection\n",
    "description: My retrospective on the qr code project\n",
    "toc: false\n",
    "layout: post\n",
    "type: tangibles\n",
    "comments: true\n",
    "courses: { ToC: {week: 24} }\n",
    "---"
   ]
  },
  {
   "cell_type": "markdown",
   "metadata": {},
   "source": [
    "This qr code project was a pretty small and interesting chance for me to exercise everything I've learned about backend and frontend interactions. \n",
    "\n",
    "One thing I learned about was fetches and async requests. I created a complicated systems of requests in order to properly compartmentalize and organize my code, but I was running into issues where the response of a fetch request wasn't return, only a promise was. I realized that I had to fix this by using a .then() and return the fetch request itself. This told the code to wait until the fetch request goes through to "
   ]
  },
  {
   "cell_type": "code",
   "execution_count": null,
   "metadata": {
    "vscode": {
     "languageId": "javascript"
    }
   },
   "outputs": [],
   "source": [
    "function getLink(){\n",
    "    return fetchId().then(obj => {\n",
    "        var num = Math.random()\n",
    "        var intervals = [];\n",
    "        for (var i = 0; i < obj.linkFreqs.length; i ++){\n",
    "            if (i == 0){\n",
    "                intervals.push(obj.linkFreqs[i].frequency)\n",
    "            }\n",
    "            else {\n",
    "                console.log(intervals)\n",
    "                intervals.push(intervals[i - 1] + obj.linkFreqs[i].frequency)\n",
    "            }\n",
    "        }\n",
    "        for (i in intervals){\n",
    "            console.log(num);\n",
    "            console.log(intervals[i])\n",
    "            if (num < intervals[i]){\n",
    "                link = obj.linkFreqs[i].link;\n",
    "                return link\n",
    "            }\n",
    "        }\n",
    "    })\n",
    "}\n",
    "getLink().then(link => {\n",
    "        console.log(link);\n",
    "        var head = document.querySelector('head')\n",
    "        var meta = document.createElement('meta')\n",
    "        meta.httpEquiv = \"refresh\"\n",
    "        meta.content =\"0; URL=\" + link;\n",
    "        var link = document.createElement('link')\n",
    "        link.rel = \"canonical\"\n",
    "        link.href = link\n",
    "        head.appendChild(meta)\n",
    "        head.appendChild(link)\n",
    "})\n"
   ]
  },
  {
   "cell_type": "markdown",
   "metadata": {},
   "source": [
    "I also learned about how to use an object we created on the backend as the request body, when sending through a request with a JSON body. For example the object and request are listed below, and the request body is specified as an object of the type QrCodeRequest, allowing us to use methods of that class (built in using spring annotations) to get the links and frequencies respectively. "
   ]
  },
  {
   "cell_type": "code",
   "execution_count": null,
   "metadata": {
    "vscode": {
     "languageId": "java"
    }
   },
   "outputs": [],
   "source": [
    "@Data\n",
    "public class QrCodeRequest {\n",
    "    private List<String> links;\n",
    "    private List<Double> frequencies; \n",
    "}\n",
    "\n",
    "@PostMapping(\"/newCode\")\n",
    "public ResponseEntity<QrCode> newCode(@RequestBody QrCodeRequest qrCodeRequest) {\n",
    "    QrCode qrCode = new QrCode();\n",
    "\n",
    "    List<String> links = qrCodeRequest.getLinks();\n",
    "    List<Double> frequencys = qrCodeRequest.getFrequencies(); \n",
    "    \n",
    "    for (int i = 0; i < links.size(); i ++){\n",
    "        qrCode.addLink(new LinkFreq(links.get(i), frequencys.get(i)));\n",
    "    }\n",
    "    \n",
    "    repository.save(qrCode);\n",
    "\n",
    "    return new ResponseEntity<>(qrCode, HttpStatus.OK);\n",
    "}\n"
   ]
  },
  {
   "cell_type": "markdown",
   "metadata": {},
   "source": [
    "I also learned about some of the issues when using a class embedded in another class. For example, in the code below we can see that QrCode has a linkFreqs list which contains LinkFreq objects, which is why it's annotated by @Embeddable. However, when you just call the QrCode object the LinkFreq object is loaded lazily, and it doesn't have a manytomany or onetomany relationship to define the loading to not be lazy. Because of this, the LinkFreqs weren't being passed through to the frontend when called, so instead we have to use the Hibernate.initialize(qrCode.getLinkFreqs()) function to query the qrCode which initializes the geLinkFreqs() method, meaning when it is called now the getLinkFreqs() method actually returns the links and frequencies. "
   ]
  },
  {
   "cell_type": "code",
   "execution_count": null,
   "metadata": {
    "vscode": {
     "languageId": "java"
    }
   },
   "outputs": [],
   "source": [
    "@Embeddable\n",
    "@NoArgsConstructor\n",
    "@AllArgsConstructor\n",
    "@Data\n",
    "public class LinkFreq {\n",
    "\n",
    "    private String link;\n",
    "    private double frequency;\n",
    "\n",
    "}\n",
    "\n",
    "@Data  \n",
    "@NoArgsConstructor\n",
    "@AllArgsConstructor\n",
    "@Entity \n",
    "public class QrCode {\n",
    "    @Id\n",
    "    @GeneratedValue(strategy = GenerationType.AUTO)\n",
    "    private Long id;\n",
    "\n",
    "    @ElementCollection\n",
    "    private List<LinkFreq> linkFreqs = new ArrayList<>();\n",
    "\n",
    "    public void addLink(LinkFreq linkFreq ){\n",
    "        linkFreqs.add(linkFreq);\n",
    "        return;\n",
    "    }\n",
    "}\n",
    "\n",
    "\n",
    "@GetMapping(\"/{id}\")\n",
    "@Transactional\n",
    "public ResponseEntity<QrCode> getQrCode(@PathVariable long id) {\n",
    "    Optional<QrCode> optional = repository.findById(id);\n",
    "    if (optional.isPresent()) {  // Good ID\n",
    "        QrCode qrCode = optional.get();  // value from findByID\n",
    "        Hibernate.initialize(qrCode.getLinkFreqs());\n",
    "        return new ResponseEntity<>(qrCode, HttpStatus.OK);  // OK HTTP response: status code, headers, and body\n",
    "    }\n",
    "    // Bad ID\n",
    "    return new ResponseEntity<>(HttpStatus.BAD_REQUEST);       \n",
    "}\n"
   ]
  }
 ],
 "metadata": {
  "kernelspec": {
   "display_name": "Python 3",
   "language": "python",
   "name": "python3"
  },
  "language_info": {
   "name": "python",
   "version": "3.10.6"
  }
 },
 "nbformat": 4,
 "nbformat_minor": 2
}
