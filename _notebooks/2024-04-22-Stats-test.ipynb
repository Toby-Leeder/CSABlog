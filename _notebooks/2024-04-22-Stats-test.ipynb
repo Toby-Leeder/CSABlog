{
 "cells": [
  {
   "cell_type": "code",
   "execution_count": null,
   "metadata": {
    "vscode": {
     "languageId": "java"
    }
   },
   "outputs": [],
   "source": []
  },
  {
   "cell_type": "code",
   "execution_count": 14,
   "metadata": {
    "vscode": {
     "languageId": "java"
    }
   },
   "outputs": [
    {
     "name": "stdout",
     "output_type": "stream",
     "text": [
      "[A=[1.0, 2.0, 3.0], B=[4.0, 5.0], C=[6.0, 7.0, 8.0, 9.0], D=[10.0]]\n",
      "Value of the first entry: [1.0, 2.0, 3.0]\n",
      "Key: A, Values: [1.0, 2.0, 3.0]\n",
      "Key: B, Values: [4.0, 5.0]\n",
      "Key: C, Values: [6.0, 7.0, 8.0, 9.0]\n",
      "Key: D, Values: [10.0]\n"
     ]
    }
   ],
   "source": [
    "public class Main {\n",
    "    public static void main(String[] args) {\n",
    "        // Example test data\n",
    "        Map<String, List<Double>> lists = new HashMap<>();\n",
    "\n",
    "        // Add data\n",
    "        lists.put(\"A\", Arrays.asList(1.0, 2.0, 3.0));\n",
    "        lists.put(\"B\", Arrays.asList(4.0, 5.0));\n",
    "        lists.put(\"C\", Arrays.asList(6.0, 7.0, 8.0, 9.0));\n",
    "        lists.put(\"D\", Arrays.asList(10.0));\n",
    "\n",
    "        System.out.println(lists.entrySet());\n",
    "\n",
    "        Set<Map.Entry<String, List<Double>>> entrySet = lists.entrySet();\n",
    "\n",
    "        if (!entrySet.isEmpty()) {\n",
    "            // Using iterator\n",
    "            Iterator<Map.Entry<String, List<Double>>> iterator = entrySet.iterator();\n",
    "            Map.Entry<String, List<Double>> firstEntry = iterator.next();\n",
    "            List<Double> valueOfFirstEntry = firstEntry.getValue();\n",
    "            System.out.println(\"Value of the first entry: \" + valueOfFirstEntry);\n",
    "        } else {\n",
    "            System.out.println(\"Map is empty\");\n",
    "        }\n",
    "        \n",
    "\n",
    "        // Print the test data\n",
    "        for (Map.Entry<String, List<Double>> entry : lists.entrySet()) {\n",
    "            String key = entry.getKey();\n",
    "            List<Double> values = entry.getValue();\n",
    "            System.out.println(\"Key: \" + key + \", Values: \" + values);\n",
    "        }\n",
    "        \n",
    "    }\n",
    "}\n",
    "\n",
    "Main.main(null);\n"
   ]
  }
 ],
 "metadata": {
  "kernelspec": {
   "display_name": "Java",
   "language": "java",
   "name": "java"
  },
  "language_info": {
   "codemirror_mode": "java",
   "file_extension": ".jshell",
   "mimetype": "text/x-java-source",
   "name": "Java",
   "pygments_lexer": "java",
   "version": "20.0.2+9"
  }
 },
 "nbformat": 4,
 "nbformat_minor": 2
}
