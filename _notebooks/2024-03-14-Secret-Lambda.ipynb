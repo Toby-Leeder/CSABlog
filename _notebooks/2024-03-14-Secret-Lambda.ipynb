{
 "cells": [
  {
   "cell_type": "markdown",
   "metadata": {},
   "source": [
    "---\n",
    "title: AWS Adventures Part 2\n",
    "description: How to use AWS Secret Manager and Lambdas to use secret keys\n",
    "toc: false\n",
    "layout: post\n",
    "type: reviews\n",
    "comments: true\n",
    "courses: { ToC: {week: 25} }\n",
    "---"
   ]
  },
  {
   "cell_type": "markdown",
   "metadata": {},
   "source": [
    "# Part 1: Secrets\n",
    "Generating the Secret is pretty self explanatory. You just need to create a key/value pair. You can use the default encryption key. You also have to assign a secret name. I followed the example given, using \"prod/github/issues\" (prod for production). \n",
    "\n",
    "Secrets manager itself seems very cool. You can configure automatically rotating secrets which are generated via custom Lambda functions. You can essentially customize as much or as little as you want, and AWS is overall full of great services. You can learn more about it [here](https://docs.aws.amazon.com/secretsmanager/latest/userguide/intro.html) if you'd like. \n",
    "\n",
    "The secret manager also gives you an example of code you could use in your Lambda function in multiple languages, for which I've included the python version below. boto3 is the library used to access AWS secrets by creating a \"session\" and then using the secrets manager within that session. The rest should be pretty self explanatory. "
   ]
  },
  {
   "cell_type": "code",
   "execution_count": null,
   "metadata": {},
   "outputs": [],
   "source": [
    "# Use this code snippet in your app.\n",
    "# If you need more information about configurations\n",
    "# or implementing the sample code, visit the AWS docs:\n",
    "# https://aws.amazon.com/developer/language/python/\n",
    "\n",
    "import boto3\n",
    "from botocore.exceptions import ClientError\n",
    "\n",
    "\n",
    "def get_secret():\n",
    "\n",
    "    secret_name = \"prod/github/issues\"\n",
    "    region_name = \"us-east-2\"\n",
    "\n",
    "    # Create a Secrets Manager client\n",
    "    session = boto3.session.Session()\n",
    "    client = session.client(\n",
    "        service_name='secretsmanager',\n",
    "        region_name=region_name\n",
    "    )\n",
    "\n",
    "    try:\n",
    "        get_secret_value_response = client.get_secret_value(\n",
    "            SecretId=secret_name\n",
    "        )\n",
    "    except ClientError as e:\n",
    "        # For a list of exceptions thrown, see\n",
    "        # https://docs.aws.amazon.com/secretsmanager/latest/apireference/API_GetSecretValue.html\n",
    "        raise e\n",
    "\n",
    "    secret = get_secret_value_response['SecretString']\n",
    "\n",
    "    # Your code goes here.\n"
   ]
  },
  {
   "cell_type": "markdown",
   "metadata": {},
   "source": [
    "# Part 2: Lambdas\n",
    "I've already worked with Lambdas before and have a guide for them [here](https://toby-leeder.github.io/CSPFastpages/2023/04/12/aws-adventures.html). In short, Lambdas allow you to run code segments without a server, sorta like how you can run a jupyter notebook cell without a server needing to be deployed. They are useful for many different applications, and in our case they're helping us keep our secret key safe by finding the key in the AWS Secrets for us and sending it to our frontend server. \n",
    "\n",
    "Here is an example of the Lambda Code. You'll notice it looks very similar to the code above:"
   ]
  },
  {
   "cell_type": "code",
   "execution_count": null,
   "metadata": {},
   "outputs": [],
   "source": [
    "import json\n",
    "\n",
    "import boto3\n",
    "import os\n",
    "from botocore.exceptions import ClientError\n",
    "\n",
    "def lambda_handler(event, context):\n",
    "    secret_name = \"prod/github/issues\"\n",
    "    region_name = \"us-east-2\"\n",
    "\n",
    "    # Create a Secrets Manager client\n",
    "    session = boto3.session.Session()\n",
    "    client = session.client(\n",
    "        service_name='secretsmanager',\n",
    "        region_name=region_name\n",
    "    )\n",
    "\n",
    "    try:\n",
    "        get_secret_value_response = client.get_secret_value(\n",
    "            SecretId=secret_name\n",
    "        )\n",
    "    except ClientError as e:\n",
    "        # For a list of exceptions thrown, see\n",
    "        # https://docs.aws.amazon.com/secretsmanager/latest/apireference/API_GetSecretValue.html\n",
    "        raise e\n",
    "\n",
    "    secret = get_secret_value_response['SecretString']    \n",
    "    return {\n",
    "        'statusCode': 200,\n",
    "        'body': json.dumps(secret)\n",
    "    }\n"
   ]
  },
  {
   "cell_type": "markdown",
   "metadata": {},
   "source": [
    "## Lambda Booboos\n",
    "1. Make sure you create a tester event to test your lambda. Don't worry about the test body because we don't have one. You click the dropdown arrow next to the test and then create the event by following the instructions. \n",
    "2. Updating Permissions: If you get a secretsManager GetSecretKey not allowed or something along those lines make sure you update the role. The Lambda is automatically assigned a role, and it's fine to just use that role, but make sure you add permissions by going to the IAM page, clicking on the roles tab on the left sidebar, searching for you role, and adding the permissions policy. "
   ]
  },
  {
   "cell_type": "markdown",
   "metadata": {},
   "source": [
    "# Part #3: API Gateway\n",
    "\n",
    "Amazon API Gateway lets you create an API that you can call a Lambda through. Otherwise to call the Lambda directly you need a secret key from Amazon which defeats the enitre purpose of doing this. So instead we use an API Gateway. When making one use the HTTP Api, it's lighter weight and simpler than the REST Api and it's all we need for this. Here's an example of an api request. "
   ]
  },
  {
   "cell_type": "code",
   "execution_count": null,
   "metadata": {},
   "outputs": [],
   "source": [
    "import requests\n",
    "import json\n",
    "\n",
    "def getToken():\n",
    "    api_endpoint = 'API_Endpoint'\n",
    "\n",
    "    headers = {\n",
    "        'Content-Type': 'application/json',\n",
    "    }\n",
    "\n",
    "    try:\n",
    "        response = requests.post(api_endpoint, headers=headers)\n",
    "\n",
    "        if response.status_code == 200:\n",
    "            return json.loads(response.json())\n",
    "        else:\n",
    "            print(\"Request failed with status code:\", response.status_code)\n",
    "            print(\"Response:\", response.text)\n",
    "\n",
    "    except Exception as e:\n",
    "        print(\"Error:\", str(e))\n",
    "\n",
    "print(getToken()[\"GithubApi\"])\n"
   ]
  },
  {
   "cell_type": "markdown",
   "metadata": {},
   "source": [
    "Once you have those steps, you can easily keep your secret key secret and continue to use it!"
   ]
  }
 ],
 "metadata": {
  "kernelspec": {
   "display_name": "Python 3",
   "language": "python",
   "name": "python3"
  },
  "language_info": {
   "codemirror_mode": {
    "name": "ipython",
    "version": 3
   },
   "file_extension": ".py",
   "mimetype": "text/x-python",
   "name": "python",
   "nbconvert_exporter": "python",
   "pygments_lexer": "ipython3",
   "version": "3.9.12"
  }
 },
 "nbformat": 4,
 "nbformat_minor": 2
}
