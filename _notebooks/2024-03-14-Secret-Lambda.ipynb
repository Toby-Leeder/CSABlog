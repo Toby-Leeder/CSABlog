{
 "cells": [
  {
   "cell_type": "markdown",
   "metadata": {},
   "source": [
    "---\n",
    "title: AWS Adventures Part 2\n",
    "description: How to use AWS Secret Manager and Lambdas to use secret keys\n",
    "toc: false\n",
    "layout: post\n",
    "type: reviews\n",
    "comments: true\n",
    "courses: { ToC: {week: 25} }\n",
    "---"
   ]
  },
  {
   "cell_type": "markdown",
   "metadata": {},
   "source": [
    "# Part 1: Secrets\n",
    "Generating the Secret is pretty self explanatory. You just need to create a key/value pair. You can use the default encryption key. You also have to assign a secret name. I followed the example given, using \"prod/github/issues\" (prod for production). \n",
    "\n",
    "Secrets manager itself seems very cool. You can configure automatically rotating secrets which are generated via custom Lambda functions. You can essentially customize as much or as little as you want, and AWS is overall full of great services. You can learn more about it [here](https://docs.aws.amazon.com/secretsmanager/latest/userguide/intro.html) if you'd like. \n",
    "\n",
    "The secret manager also gives you an example of code you could use in your Lambda function in multiple languages, for which I've included the python version below. boto3 is the library used to access AWS secrets by creating a \"session\" and then using the secrets manager within that session. The rest should be pretty self explanatory. "
   ]
  },
  {
   "cell_type": "code",
   "execution_count": null,
   "metadata": {},
   "outputs": [],
   "source": [
    "# Use this code snippet in your app.\n",
    "# If you need more information about configurations\n",
    "# or implementing the sample code, visit the AWS docs:\n",
    "# https://aws.amazon.com/developer/language/python/\n",
    "\n",
    "import boto3\n",
    "from botocore.exceptions import ClientError\n",
    "\n",
    "\n",
    "def get_secret():\n",
    "\n",
    "    secret_name = \"prod/github/issues\"\n",
    "    region_name = \"us-east-2\"\n",
    "\n",
    "    # Create a Secrets Manager client\n",
    "    session = boto3.session.Session()\n",
    "    client = session.client(\n",
    "        service_name='secretsmanager',\n",
    "        region_name=region_name\n",
    "    )\n",
    "\n",
    "    try:\n",
    "        get_secret_value_response = client.get_secret_value(\n",
    "            SecretId=secret_name\n",
    "        )\n",
    "    except ClientError as e:\n",
    "        # For a list of exceptions thrown, see\n",
    "        # https://docs.aws.amazon.com/secretsmanager/latest/apireference/API_GetSecretValue.html\n",
    "        raise e\n",
    "\n",
    "    secret = get_secret_value_response['SecretString']\n",
    "\n",
    "    # Your code goes here.\n"
   ]
  },
  {
   "cell_type": "markdown",
   "metadata": {},
   "source": [
    "# Part 2: Lambdas\n",
    "I've already worked with Lambdas before and have a guide for them [here](https://toby-leeder.github.io/CSPFastpages/2023/04/12/aws-adventures.html). In short, Lambdas allow you to run code segments without a server, sorta like how you can run a jupyter notebook cell without a server needing to be deployed. They are useful for many different applications, and in our case they're helping us keep our secret key safe by finding the key in the AWS Secrets for us and sending it to our frontend server. \n",
    "\n",
    "Here is an example of the Lambda Code. You'll notice it looks very similar to the code above:"
   ]
  },
  {
   "cell_type": "code",
   "execution_count": null,
   "metadata": {},
   "outputs": [],
   "source": [
    "import json\n",
    "\n",
    "import boto3\n",
    "import os\n",
    "from botocore.exceptions import ClientError\n",
    "\n",
    "def lambda_handler(event, context):\n",
    "    secret_name = \"prod/github/issues\"\n",
    "    region_name = \"us-east-2\"\n",
    "\n",
    "    # Create a Secrets Manager client\n",
    "    session = boto3.session.Session()\n",
    "    client = session.client(\n",
    "        service_name='secretsmanager',\n",
    "        region_name=region_name\n",
    "    )\n",
    "\n",
    "    try:\n",
    "        get_secret_value_response = client.get_secret_value(\n",
    "            SecretId=secret_name\n",
    "        )\n",
    "    except ClientError as e:\n",
    "        # For a list of exceptions thrown, see\n",
    "        # https://docs.aws.amazon.com/secretsmanager/latest/apireference/API_GetSecretValue.html\n",
    "        raise e\n",
    "\n",
    "    secret = get_secret_value_response['SecretString']    \n",
    "    return {\n",
    "        'statusCode': 200,\n",
    "        'body': json.dumps(secret)\n",
    "    }\n"
   ]
  },
  {
   "cell_type": "markdown",
   "metadata": {},
   "source": [
    "## Lambda Booboos\n",
    "1. Make sure you create a tester event to test your lambda. Don't worry about the test body because we don't have one. You click the dropdown arrow next to the test and then create the event by following the instructions. \n",
    "2. Updating Permissions: If you get a secretsManager GetSecretKey not allowed or something along those lines make sure you update the role. The Lambda is automatically assigned a role, and it's fine to just use that role, but make sure you add permissions by going to the IAM page, clicking on the roles tab on the left sidebar, searching for you role, and adding the permissions policy. "
   ]
  }
 ],
 "metadata": {
  "language_info": {
   "name": "python"
  }
 },
 "nbformat": 4,
 "nbformat_minor": 2
}
