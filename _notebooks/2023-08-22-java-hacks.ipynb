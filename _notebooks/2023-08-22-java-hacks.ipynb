{
 "cells": [
  {
   "cell_type": "markdown",
   "metadata": {},
   "source": [
    "---\n",
    "layout: post\n",
    "title: Java Hacks\n",
    "description: Hacks for Java Hello\n",
    "courses: { ToC: {week: 1, categories: [3.A]} }\n",
    "type: hacks\n",
    "---"
   ]
  },
  {
   "cell_type": "code",
   "execution_count": 24,
   "metadata": {},
   "outputs": [
    {
     "name": "stdout",
     "output_type": "stream",
     "text": [
      "Boston\n",
      "4.19\n"
     ]
    }
   ],
   "source": [
    "// Class deifintion\n",
    "public class College{\n",
    "    // Variable definitions, necessary to then call this.location etc. We define the strings as private, meaning things outside of the class cannot access them\n",
    "    private String location;\n",
    "    private String acceptRate;\n",
    "    private String avgGPA;\n",
    "    private String avgSAT;\n",
    "    // constructor, method first run when the object is created. Defines all of the variables. It also must be the same name as the class or you'll get an error for not having a return type. \n",
    "    public College(String location, String acceptRate, String avgGPA, String avgSAT){\n",
    "        this.location = location;\n",
    "        this.acceptRate = acceptRate;\n",
    "        this.avgGPA = avgGPA;\n",
    "        this.avgSAT = avgSAT;\n",
    "    }\n",
    "    // Various getter methods. Necessary since we defined the strings as private\n",
    "    public String getLocation(){\n",
    "        return this.location;\n",
    "    }\n",
    "    public String getAcceptRate(){\n",
    "        return this.acceptRate;\n",
    "    }\n",
    "    public String getAvgGPA(){\n",
    "        return this.avgGPA;\n",
    "    }\n",
    "    public String getAvgSAT(){\n",
    "        return this.avgSAT;\n",
    "    }\n",
    "}\n",
    "\n",
    "// main class\n",
    "public class Main {\n",
    "    // main method\n",
    "    public static void main(String[] args) {  \n",
    "        // object initialization. Uses the format : ClassName varName = new ConstructorName\n",
    "        College college1 = new College(\"Boston\", \"4.1%\", \"4.17\", \"1535\");\n",
    "        College college2 = new College(\"California\", \"3.9%\", \"4.19\", \"1545\");\n",
    "        System.out.println(college1.getLocation());\n",
    "        System.out.println(college2.getAvgGPA());\n",
    "    }\n",
    "}\n",
    "\n",
    "//Ijava running main class and method\n",
    "Main.main(null);"
   ]
  }
 ],
 "metadata": {
  "kernelspec": {
   "display_name": "Java",
   "language": "java",
   "name": "java"
  },
  "language_info": {
   "codemirror_mode": "java",
   "file_extension": ".jshell",
   "mimetype": "text/x-java-source",
   "name": "java",
   "pygments_lexer": "java",
   "version": "11.0.12+7"
  },
  "orig_nbformat": 4
 },
 "nbformat": 4,
 "nbformat_minor": 2
}
