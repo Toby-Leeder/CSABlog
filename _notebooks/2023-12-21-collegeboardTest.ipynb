{
 "cells": [
  {
   "cell_type": "markdown",
   "metadata": {},
   "source": [
    "---\n",
    "layout: post\n",
    "title: CollegeBoard Test\n",
    "description: My notes for the collegeboard Test\n",
    "courses: { ToC: {week: 18} }\n",
    "toc: true\n",
    "type: tangibles\n",
    "---"
   ]
  },
  {
   "cell_type": "markdown",
   "metadata": {},
   "source": [
    "### Things I looked up!\n",
    "\n",
    "- Question 9: I wasn't exactly sure on this one. Initially I thought it would just be (int)(Math.random()*6) + (int)(Math.random()*6) but then I talked to aiden and realized that we might have to add 2 if it only floors the numbers, since we would be getting a random number from 0 to 5 rather than 1 to 6. I then tested it below to figure out that it always rounds down, so we do have to add 2.\n",
    "- Question 10: we knew the answer to this question, but this sparked a discussion about the difference between a class and an interface. We learned that multiple interfaces can be implemented by a single class while only one class can be extended, and the interfaces only contain static variables and abstract methods. \n",
    "- Question 18: I wasn't sure how order of operations works so I tested it myself below. Turns out the question was actually about integer rounding, I didn't even think of it but by first dividing 404/10, we would actually get 40 not 404. This is because 404 and 10 are integers so our answer should be an integer value. \n",
    "- Question 22: We weren't sure about this one at first either, but we realized that we missed the fact that E doesn't work since it goes the wrong way, iterating through the rows first before the columns meaning it would give 142536 instead of 123456. \n"
   ]
  },
  {
   "cell_type": "code",
   "execution_count": 5,
   "metadata": {},
   "outputs": [
    {
     "name": "stdout",
     "output_type": "stream",
     "text": [
      "5.933112228312195\n",
      "5\n"
     ]
    }
   ],
   "source": [
    "double RandNum = Math.random()*6;\n",
    "System.out.println(RandNum);\n",
    "System.out.println((int)(RandNum));"
   ]
  },
  {
   "cell_type": "code",
   "execution_count": 1,
   "metadata": {},
   "outputs": [
    {
     "name": "stdout",
     "output_type": "stream",
     "text": [
      "401\n"
     ]
    }
   ],
   "source": [
    "System.out.println(404 / 10 * 10 + 1);"
   ]
  },
  {
   "cell_type": "markdown",
   "metadata": {},
   "source": [
    "![]({{ site.basurl }}/assets/images/2015PracticeExam.png)\n",
    "\n",
    "### Corrections\n",
    "- Question 19: I missed part of this question that x is incremented by 2 rather than 1, this means that the numbers will always be odd. \n",
    "- Question 39: I didn't know that the Set method returns the value that was at the index before the change, so I thought that the code would not work correctly. "
   ]
  }
 ],
 "metadata": {
  "kernelspec": {
   "display_name": "Java",
   "language": "java",
   "name": "java"
  },
  "language_info": {
   "codemirror_mode": "java",
   "file_extension": ".jshell",
   "mimetype": "text/x-java-source",
   "name": "java",
   "pygments_lexer": "java",
   "version": "11.0.12+7"
  },
  "orig_nbformat": 4
 },
 "nbformat": 4,
 "nbformat_minor": 2
}
