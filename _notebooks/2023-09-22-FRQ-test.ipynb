{
 "cells": [
  {
   "cell_type": "markdown",
   "metadata": {},
   "source": [
    "---\n",
    "layout: post\n",
    "title: FRQ Test\n",
    "description: \n",
    "courses: { ToC: {week: 5} }\n",
    "type: tangibles\n",
    "---"
   ]
  },
  {
   "cell_type": "code",
   "execution_count": 45,
   "metadata": {},
   "outputs": [
    {
     "name": "stdout",
     "output_type": "stream",
     "text": [
      "[t, , v, , t, , m, , , , v, , |, , v, {, }, t, u, t, , |, i, , x, m, u, u, , v, , o, o, q, i, i, x, l, u, p, , , , p, , , , , i, l, v, y, j, , p, |, z, , q, {, n, , m, , m, w, , , y, , }, w, , m, , , , q, q, n, t, v, , |, q, , q, q, k, l, v, x, |, ~, r, m, m, n, r, k, s, z, , {, h, z, r, m, , , |, ~, o, , p, x, j, , , x, , v, , , |, k, y, m, t, {, , , y, x, r, q, |, x, n, , h, p, s, u, , , , , r, {, , }, y, {, r, , y, q, j, , , ~, q, p, n, , , , n, , l, , t, , k, t, v, , ~, , p, v, t, k, j, y, , , k, o, , , m, h, w, o, v, }, y, q]\n"
     ]
    }
   ],
   "source": [
    "\n",
    "\n",
    "public class Awesome {\n",
    "    public static void main (String[] args){\n",
    "        System.out.println(initializeRandomLetters(200, 'h'));\n",
    "    }\n",
    "    public static ArrayList<Character> initializeRandomLetters(int n, char asciiStart) {\n",
    "        ArrayList<Character> randChars = new ArrayList<Character>();\n",
    "        int asciiNum = asciiStart;\n",
    "\n",
    "        for (int i = 0; i<n; i++){\n",
    "            int randomNum = (int) (Math.random() * 33);\n",
    "            char newAsciiChar = (char) (randomNum + asciiNum);\n",
    "            randChars.add(newAsciiChar);\n",
    "        }\n",
    "\n",
    "        return randChars;\n",
    "    }\n",
    "}\n",
    "\n",
    "Awesome.main(null)"
   ]
  }
 ],
 "metadata": {
  "kernelspec": {
   "display_name": "Java",
   "language": "java",
   "name": "java"
  },
  "language_info": {
   "codemirror_mode": "java",
   "file_extension": ".jshell",
   "mimetype": "text/x-java-source",
   "name": "java",
   "pygments_lexer": "java",
   "version": "11.0.12+7"
  },
  "orig_nbformat": 4
 },
 "nbformat": 4,
 "nbformat_minor": 2
}
