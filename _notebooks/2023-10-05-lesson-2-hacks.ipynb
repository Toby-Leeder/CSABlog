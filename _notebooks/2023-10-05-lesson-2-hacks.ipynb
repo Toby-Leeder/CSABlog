{
 "cells": [
  {
   "cell_type": "markdown",
   "metadata": {},
   "source": [
    "---\n",
    "layout: post\n",
    "title: FRQ Test\n",
    "description: \n",
    "courses: { ToC: {week: 7} }\n",
    "type: tangibles\n",
    "---"
   ]
  },
  {
   "cell_type": "code",
   "execution_count": 9,
   "metadata": {},
   "outputs": [
    {
     "name": "stdout",
     "output_type": "stream",
     "text": [
      "3\n"
     ]
    }
   ],
   "source": [
    "// Hack #1\n",
    "\n",
    "ArrayList<Integer> arrayList = new ArrayList();\n",
    "\n",
    "public static void addToArrayList(int i){\n",
    "    arrayList.add(i);\n",
    "}\n",
    "\n",
    "public static int getValue(ArrayList<Integer> arrayList, int index){\n",
    "    return arrayList.get(index);\n",
    "}\n",
    "\n",
    "addToArrayList(1);\n",
    "addToArrayList(5);\n",
    "addToArrayList(3);\n",
    "\n",
    "System.out.println(getValue(arrayList, 2));\n",
    "\n",
    "\n",
    "// Hack #2\n",
    "\n",
    "public class GuessingGame{\n",
    "    int randNum1;\n",
    "    int randNum2;\n",
    "    public GuessingGame(){\n",
    "    }\n",
    "    \n",
    "}\n"
   ]
  }
 ],
 "metadata": {
  "kernelspec": {
   "display_name": "Java",
   "language": "java",
   "name": "java"
  },
  "language_info": {
   "codemirror_mode": "java",
   "file_extension": ".jshell",
   "mimetype": "text/x-java-source",
   "name": "java",
   "pygments_lexer": "java",
   "version": "20.0.2+9"
  },
  "orig_nbformat": 4
 },
 "nbformat": 4,
 "nbformat_minor": 2
}
