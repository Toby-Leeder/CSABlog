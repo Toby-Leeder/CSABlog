{
 "cells": [
  {
   "cell_type": "markdown",
   "metadata": {},
   "source": [
    "---\n",
    "title: FRQ 2\n",
    "description: Second FRQ for collegeboard FRQ final\n",
    "toc: true\n",
    "layout: post\n",
    "type: hacks\n",
    "courses: { ToC: {week: 23} }\n",
    "---"
   ]
  },
  {
   "cell_type": "code",
   "execution_count": 11,
   "metadata": {
    "vscode": {
     "languageId": "java"
    }
   },
   "outputs": [
    {
     "name": "stdout",
     "output_type": "stream",
     "text": [
      "+A+++\n",
      "H*++*\n"
     ]
    }
   ],
   "source": [
    "public class Main{\n",
    "    public static void main (String args[]){\n",
    "        HiddenWord puzzle = new HiddenWord(\"HARPS\");\n",
    "        System.out.println(puzzle.getHint(\"AAAAA\"));\n",
    "        System.out.println(puzzle.getHint(\"HEART\"));\n",
    "    }\n",
    "}\n",
    "\n",
    "public class HiddenWord{\n",
    "    private String word;\n",
    "    public HiddenWord(String word){\n",
    "        this.word = word;\n",
    "    }\n",
    "    public String getHint(String guess){\n",
    "        String hint = \"\";\n",
    "        for (int i = 0; i < guess.length(); i++){\n",
    "            if (this.word.contains(String.valueOf(guess.charAt(i)))){\n",
    "                if (this.word.charAt(i) == guess.charAt(i)){\n",
    "                    hint = hint + guess.charAt(i);\n",
    "                }\n",
    "                else {\n",
    "                    hint = hint + \"+\";\n",
    "                }\n",
    "            }\n",
    "            else {\n",
    "                hint = hint + \"*\";\n",
    "            }\n",
    "        }\n",
    "        return hint;\n",
    "    }\n",
    "}\n",
    "Main.main(null);"
   ]
  },
  {
   "cell_type": "markdown",
   "metadata": {},
   "source": [
    "## Learnings:\n",
    "\n",
    "1. I can check if a letter is contained in a string by using the .contains() method on the string\n",
    "2. length of a string is a method, length(). Length of an array is a property of the class. \n",
    "3. I can't iterate through a string using brackents, I need to do charAt(). \n",
    "4. String.contains can only include a string as the parameter, not a char. You need to convert a char if you're going to use a char. \n",
    "\n",
    "## Reflection\n",
    "This FRQ was mainly about a few of the basic java concepts like contains and even nested if statements. The FRQ had a branching logic chain, in which one answer led to false and another led to a second if statement. This was interesting to work with and is a useful concept to understand, and I feel I have a solid understanding of it. However, looking back, I can see why some programmers prefer an alternate syntax where you ask for the negative and then return earlier in order to avoid large chains of nested functions or if statements. It would have made my code more readable to check if instead if the word did not contain the letter and then just checked if the exact letter matched up, rather than checking both seperately. "
   ]
  },
  {
   "cell_type": "markdown",
   "metadata": {},
   "source": []
  }
 ],
 "metadata": {
  "kernelspec": {
   "display_name": "Java",
   "language": "java",
   "name": "java"
  },
  "language_info": {
   "codemirror_mode": "java",
   "file_extension": ".jshell",
   "mimetype": "text/x-java-source",
   "name": "Java",
   "pygments_lexer": "java",
   "version": "20.0.2+9"
  }
 },
 "nbformat": 4,
 "nbformat_minor": 2
}
