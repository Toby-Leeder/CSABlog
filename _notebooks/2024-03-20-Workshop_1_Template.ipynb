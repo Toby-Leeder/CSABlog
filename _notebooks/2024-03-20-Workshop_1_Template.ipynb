{
 "cells": [
  {
   "cell_type": "markdown",
   "metadata": {},
   "source": [
    "---\n",
    "title: Workshop 1 Hacks TEMPLATE\n",
    "description: Methods & Control Structures Workshop Hacks\n",
    "toc: true\n",
    "layout: post\n",
    "courses: { csa: {week: '26'} }\n",
    "type: hacks\n",
    "comments: true\n",
    "---"
   ]
  },
  {
   "cell_type": "markdown",
   "metadata": {},
   "source": [
    "## Question 1: Primitive Types vs Reference Types (Unit 1)\n",
    "\n",
    "### Part 1: MCQ"
   ]
  },
  {
   "cell_type": "markdown",
   "metadata": {},
   "source": [
    "(a) What kind of types are person1 and person2?\n",
    "Answer: \n",
    "(b) Do person1 and person3 point to the same value in memory?\n",
    "Answer: \n",
    "(c) Is the integer “number” stored in the heap or in the stack?\n",
    "Answer: \n",
    "(d) Is the value that “person1” points to stored in the heap or in the stack?\n",
    "Answer: "
   ]
  },
  {
   "cell_type": "markdown",
   "metadata": {},
   "source": [
    "### Part 2: FRQ"
   ]
  },
  {
   "cell_type": "markdown",
   "metadata": {},
   "source": [
    "(a) Define primitive types and reference types in Java. Provide examples of each.\n",
    "\n"
   ]
  },
  {
   "cell_type": "markdown",
   "metadata": {},
   "source": [
    "(b) Explain the differences between primitive types and reference types in terms of memory allocation and usage in Java programs.\n"
   ]
  },
  {
   "cell_type": "markdown",
   "metadata": {},
   "source": [
    "(c) You have a method `calculateInterest` that takes a primitive `double` type representing the principal amount and a reference type `Customer` representing the customer information. Write the method signature and the method implementation. Include comments to explain your code."
   ]
  },
  {
   "cell_type": "code",
   "execution_count": null,
   "metadata": {},
   "outputs": [],
   "source": [
    "// code"
   ]
  },
  {
   "cell_type": "markdown",
   "metadata": {},
   "source": [
    "## Question 2: Iteration over 2D arrays (Unit 4)\n",
    "\n",
    "Situation: You are developing a game where you need to track player scores on a 2D grid representing levels and attempts."
   ]
  },
  {
   "cell_type": "markdown",
   "metadata": {},
   "source": [
    "(a) Explain the concept of iteration over a 2D array in Java. Provide an example scenario where iterating over a 2D array is useful in a programming task.\n",
    "\n"
   ]
  },
  {
   "cell_type": "markdown",
   "metadata": {},
   "source": [
    "(b) You need to implement a method `calculateTotalScore` that takes a 2D array `scores` of integers representing player scores and returns the sum of all the elements in the array. Write the method signature and the method implementation. Include comments to explain your code."
   ]
  },
  {
   "cell_type": "code",
   "execution_count": null,
   "metadata": {},
   "outputs": [],
   "source": [
    "// code"
   ]
  },
  {
   "cell_type": "markdown",
   "metadata": {},
   "source": [
    "## Question 3: ArrayList (Unit 6)\n",
    "\n",
    "Situation: You are developing a student management system where you need to store and analyze the grades of students in a class."
   ]
  },
  {
   "cell_type": "markdown",
   "metadata": {},
   "source": [
    "(a) Define an arrayList in Java. Explain its significance and usefulness in programming.\n",
    "\n",
    "An arraylist is a list of any type. This means we can have a list of any objects. And for reference, everything in java is an object. We could have a list of arraylists, arrays, integers, a custom object we created, or anything else we want. This is extemely useful for grouping together lists of things, allowing us to organize our code and perform specific operations. Arraylists are also mutable, meaning we can change the size of them, which is different than normal arrays. Arraylists also have built in methods which help us like easily adding or removing entries or getting properties like the size easily. "
   ]
  },
  {
   "cell_type": "markdown",
   "metadata": {},
   "source": [
    "(b) You need to implement a method `calculateAverageGrade` that takes an array `grades` of integers representing student grades and returns the average of all the elements in the array. Write the method signature and the method implementation. Include comments to explain your code."
   ]
  },
  {
   "cell_type": "code",
   "execution_count": 7,
   "metadata": {},
   "outputs": [
    {
     "name": "stdout",
     "output_type": "stream",
     "text": [
      "83\n"
     ]
    }
   ],
   "source": [
    "\n",
    "\n",
    "public class AverageGrade{\n",
    "    private ArrayList<Integer> grades = new ArrayList<Integer>();\n",
    "    public AverageGrade(){\n",
    "        // Adds example grades for example\n",
    "        this.grades.add(96);\n",
    "        this.grades.add(93);\n",
    "        this.grades.add(80);\n",
    "        this.grades.add(84);\n",
    "        this.grades.add(86);\n",
    "        this.grades.add(75);\n",
    "        this.grades.add(68);\n",
    "    }\n",
    "\n",
    "    public int calculateAverageGrade(){\n",
    "        // intializes sum\n",
    "        int sum = 0;\n",
    "        // iterates through grades and adds it to the sum\n",
    "        for (int i = 0; i < grades.size(); i++){\n",
    "            sum += grades.get(i);\n",
    "        }\n",
    "        // returns the division of sums and the number of grades to find the average. \n",
    "        return sum/grades.size();\n",
    "    }\n",
    "\n",
    "    public static void main(String[] args){\n",
    "        AverageGrade averageGrade = new AverageGrade();\n",
    "        System.out.println(averageGrade.calculateAverageGrade());\n",
    "    }\n",
    "}\n",
    "\n",
    "AverageGrade.main(null);"
   ]
  },
  {
   "cell_type": "markdown",
   "metadata": {},
   "source": [
    "## Question 4: Math Class (Unit 2)\n",
    "\n",
    "Situation: You are developing a scientific calculator application where users need to perform various mathematical operations."
   ]
  },
  {
   "cell_type": "markdown",
   "metadata": {},
   "source": [
    "(a) Discuss the purpose and utility of the Math class in Java programming. Provide examples of at least three methods provided by the Math class and explain their usage.\n"
   ]
  },
  {
   "cell_type": "markdown",
   "metadata": {},
   "source": [
    "(b) You need to implement a method `calculateSquareRoot` that takes a `double` number as input and returns its square root using the Math class. Write the method signature and the method implementation. Include comments to explain your code."
   ]
  },
  {
   "cell_type": "code",
   "execution_count": null,
   "metadata": {},
   "outputs": [],
   "source": [
    "// code"
   ]
  },
  {
   "cell_type": "markdown",
   "metadata": {},
   "source": [
    "## Question 5: If, While, Else (Unit 3-4)\n",
    "\n",
    "Situation: You are developing a simple grading system where you need to determine if a given score is passing or failing."
   ]
  },
  {
   "cell_type": "markdown",
   "metadata": {},
   "source": [
    "(a) Explain the roles and usage of the if statement, while loop, and else statement in Java programming. Provide examples illustrating each.\n",
    "\n",
    "If statements are the backbone of all coding logic, they are the main way that one can check a condition and change the behavior of code according too differing conditions. Else statements are integral to this as well, as they allow us to simply acount for conditions outside of the ones we anticipate. While loops are useful as they allow us to loop infintely until a condition is met, another way to reshape our code depending on varying conditions. \n",
    "\n",
    "Examples:\n",
    "\n",
    "If statements:\n",
    "```Java\n",
    "if (name == \"Toby\"){\n",
    "    // Do something\n",
    "}\n",
    "else if (name == \"Gene\"){\n",
    "    // Do something different\n",
    "}\n",
    "else if (name == \"Drew\"){\n",
    "    // Do something different\n",
    "}\n",
    "else {\n",
    "    // Do something different if the name is not something we're expecting to get\n",
    "}\n",
    "```\n",
    "\n",
    "While Loop\n",
    "\n",
    "```Java\n",
    "while (num > target){\n",
    "    num--;\n",
    "    count++;\n",
    "}\n",
    "// this simple code would allow us to calculate how far away from a target a number is, by infinitely incrementing downwards until we reach our desired number. Obviously there are easier ways to do this but this is an example of how while loops can be useful for repetative tasks. \n",
    "```"
   ]
  },
  {
   "cell_type": "markdown",
   "metadata": {},
   "source": [
    "(b) You need to implement a method `printGradeStatus` that takes an integer `score` as input and prints \"Pass\" if the score is greater than or equal to 60, and \"Fail\" otherwise. Write the method signature and the method implementation. Include comments to explain your code."
   ]
  },
  {
   "cell_type": "code",
   "execution_count": 11,
   "metadata": {},
   "outputs": [
    {
     "name": "stdout",
     "output_type": "stream",
     "text": [
      "Pass\n"
     ]
    }
   ],
   "source": [
    "public class IsPassing{\n",
    "    public IsPassing(){}\n",
    "\n",
    "    public static void printGradeStatus(int grade){\n",
    "        if (grade >= 60){\n",
    "            System.out.println(\"Pass\");\n",
    "        }\n",
    "        else{\n",
    "            System.out.println(\"Fail\");\n",
    "        }\n",
    "    }\n",
    "}\n",
    "\n",
    "IsPassing.printGradeStatus(80);\n"
   ]
  }
 ],
 "metadata": {
  "kernelspec": {
   "display_name": "Java",
   "language": "java",
   "name": "java"
  },
  "language_info": {
   "codemirror_mode": "java",
   "file_extension": ".jshell",
   "mimetype": "text/x-java-source",
   "name": "java",
   "pygments_lexer": "java",
   "version": "11.0.12+7"
  }
 },
 "nbformat": 4,
 "nbformat_minor": 2
}
