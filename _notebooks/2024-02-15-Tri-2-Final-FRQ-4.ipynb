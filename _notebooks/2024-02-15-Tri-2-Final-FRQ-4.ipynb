{
 "cells": [
  {
   "cell_type": "markdown",
   "metadata": {},
   "source": [
    "---\n",
    "title: FRQ 4\n",
    "description: Final FRQ for collegeboard FRQ final\n",
    "toc: true\n",
    "layout: post\n",
    "type: hacks\n",
    "courses: { ToC: {week: 23} }\n",
    "---"
   ]
  },
  {
   "cell_type": "code",
   "execution_count": 28,
   "metadata": {
    "vscode": {
     "languageId": "java"
    }
   },
   "outputs": [
    {
     "name": "stdout",
     "output_type": "stream",
     "text": [
      "-3-2-1012\n",
      "false\n"
     ]
    }
   ],
   "source": [
    "public class Main{\n",
    "    public static void main (String args[]){\n",
    "        NumberGroup range1 = new Range(-3, 2);\n",
    "\n",
    "        for (int i : range1.getRange()){\n",
    "            System.out.print(i);\n",
    "        }\n",
    "\n",
    "        MultipleGroups multiple1 = new MultipleGroups();\n",
    "\n",
    "        multiple1.addGroup(new Range(-3,2));\n",
    "        multiple1.addGroup(new Range(3,4));\n",
    "        multiple1.addGroup(new Range(-1,6));\n",
    "\n",
    "        System.out.println();\n",
    "        System.out.println(multiple1.contains(-4));\n",
    "    }\n",
    "}\n",
    "\n",
    "public interface NumberGroup{\n",
    "    public boolean contains(int num);\n",
    "    public ArrayList<Integer> getRange(); \n",
    "}\n",
    "\n",
    "public class Range implements NumberGroup{\n",
    "    private ArrayList<Integer> range = new ArrayList<Integer>();\n",
    "    public Range(int min, int max){\n",
    "        for (int i = min; i <= max; i ++){\n",
    "            this.range.add(i);\n",
    "        }\n",
    "    }\n",
    "\n",
    "    public boolean contains(int num){\n",
    "        return this.range.contains(num);\n",
    "    }\n",
    "\n",
    "    public ArrayList<Integer> getRange(){\n",
    "        return this.range;\n",
    "    }\n",
    "}\n",
    "\n",
    "public class MultipleGroups implements NumberGroup{\n",
    "    // private List<NumberGroup> groupList = new List<NumberGroup>(); \n",
    "    private List<NumberGroup> groupList = new ArrayList<NumberGroup>();\n",
    "    public MultipleGroups(){\n",
    "\n",
    "    }\n",
    "\n",
    "    public ArrayList<Integer> getRange(){\n",
    "        return groupList.get(1).getRange();\n",
    "    }\n",
    "\n",
    "    public void addGroup(NumberGroup range){\n",
    "        this.groupList.add(range);\n",
    "    }\n",
    "\n",
    "    public boolean contains(int num){\n",
    "        for (NumberGroup range : groupList){\n",
    "            if (range.contains(num)){\n",
    "                return true;\n",
    "            }\n",
    "        }\n",
    "        return false;\n",
    "    }\n",
    "}\n",
    "\n",
    "Main.main(null);"
   ]
  },
  {
   "cell_type": "markdown",
   "metadata": {},
   "source": [
    "## Learnings:\n",
    "\n",
    "1. Declaration and usage of an interface, an interface is an empty abstract class with only related methods. The methods are defined without curly brackets. To use an interface you need to use the implements keyword. \n",
    "2. When implementing an interface and defining an object to be of the type of the interface you can only use methods defined within the interface. '\n",
    "\n",
    "## Reflection\n",
    "The key algorithm in this blog is the functionality of an interface. While I understand the concept and how to use an interface, I think that due to my inexperience it's still difficult for me to see the usefulness. I looked into it a little online and understood that it was beneficial for security reasons, in case you only want to show the methods and not the implementation. This still confused me a little, as I just wasn't exactly sure how this would work and how it benefits security. "
   ]
  },
  {
   "cell_type": "markdown",
   "metadata": {},
   "source": []
  }
 ],
 "metadata": {
  "kernelspec": {
   "display_name": "Java",
   "language": "java",
   "name": "java"
  },
  "language_info": {
   "codemirror_mode": "java",
   "file_extension": ".jshell",
   "mimetype": "text/x-java-source",
   "name": "Java",
   "pygments_lexer": "java",
   "version": "20.0.2+9"
  }
 },
 "nbformat": 4,
 "nbformat_minor": 2
}
