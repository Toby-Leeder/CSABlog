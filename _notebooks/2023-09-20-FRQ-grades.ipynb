{
 "cells": [
  {
   "cell_type": "markdown",
   "metadata": {},
   "source": [
    "---\n",
    "layout: post\n",
    "title: Peer grading Notes and Grades\n",
    "description: Peer grading for the FRQ labs \n",
    "courses: { ToC: {week: 5} }\n",
    "type: tangibles\n",
    "---"
   ]
  },
  {
   "cell_type": "markdown",
   "metadata": {},
   "source": [
    "### Finn\n",
    "> FRQ #2\n",
    "\n",
    "- explained his pretty well\n",
    "- knew what he was talking about\n",
    "- didn't go in depth about the functionality of his code\n",
    "- No corrections/grading\n",
    "- Good presenting\n",
    "- \n",
    "\n",
    "### Justin\n",
    "> FRQ #4\n",
    "\n",
    "- explained what his code did\n",
    "- did some experimentation on his own before starting the FRQ\n",
    "- Explained the FRQ prompt\n",
    "- Didn't really show it working\n",
    "- showed completed code combining the two methods\n",
    "- No corrections/grading\n",
    "- Hard to hear\n",
    "- \n",
    "\n",
    "### Mati\n",
    "> FRQ #1\n",
    "\n",
    "- Remade the code in python since he couldn't get it to run in Java. Understood concepts but not in Java\n",
    "- Hard to hear\n",
    "- Short\n",
    "- No corrections/grading\n",
    "- \n",
    "\n",
    "### James\n",
    "> FRQ #3 \n",
    "\n",
    "- Explained code pretty well\n",
    "- kinda just read his comments, ChatGPT?\n",
    "- Didn't show it running \n",
    "- Didin't finish? Still needs to deine his list so no testing\n",
    "- Code worked\n",
    "- \n"
   ]
  },
  {
   "cell_type": "markdown",
   "metadata": {},
   "source": []
  }
 ],
 "metadata": {
  "language_info": {
   "name": "python"
  },
  "orig_nbformat": 4
 },
 "nbformat": 4,
 "nbformat_minor": 2
}
