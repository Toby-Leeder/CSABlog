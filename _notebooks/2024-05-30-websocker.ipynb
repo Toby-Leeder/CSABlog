{
 "cells": [
  {
   "cell_type": "markdown",
   "metadata": {},
   "source": [
    "---\n",
    "toc: true\n",
    "comments: false\n",
    "layout: post\n",
    "title: Websocket\n",
    "type: hacks\n",
    "courses: { ToC: {week: 30} }\n",
    "---"
   ]
  },
  {
   "cell_type": "code",
   "execution_count": null,
   "metadata": {},
   "outputs": [],
   "source": [
    "@Configuration\n",
    "@EnableWebSocketMessageBroker\n",
    "public class WebSocketConfig implements WebSocketMessageBrokerConfigurer{\n",
    "\n",
    "    public void registerStompEndpoints(StompEndpointRegistry registry) {\n",
    "        registry.addEndpoint(\"/ws\")\n",
    "                .setAllowedOrigins(\"https://nighthawkcoders.github.io\", \"https://cj-backend.stu.nighthawkcodingsociety.com\",\"http://localhost:4000\", \"https://toby-leeder.github.io\", \"https://classroomjukebox.com/\")\n",
    "                .withSockJS();\n",
    "    }\n",
    "\n",
    "\n",
    "    @Override\n",
    "    public void configureMessageBroker(MessageBrokerRegistry registry){\n",
    "        registry.setApplicationDestinationPrefixes(\"/app\");\n",
    "        registry.enableSimpleBroker(\"/topic\");\n",
    "    }\n",
    "}\n"
   ]
  },
  {
   "cell_type": "markdown",
   "metadata": {},
   "source": [
    "Creating the SockJS endpoint. Also creates a the configureMessageBroker method, which is used later. /app is how you connect pretty much, and /topic is the endpoint used for messages. "
   ]
  },
  {
   "cell_type": "code",
   "execution_count": null,
   "metadata": {},
   "outputs": [],
   "source": [
    "@Component\n",
    "@RequiredArgsConstructor\n",
    "@Slf4j\n",
    "public class WebSocketEventListener {\n",
    "    \n",
    "    private final SimpMessageSendingOperations messageTemplate;\n",
    "\n",
    "    @EventListener\n",
    "    public void handleWebSocletDisconnectListener(SessionDisconnectEvent event){\n",
    "        StompHeaderAccessor headerAccessor = StompHeaderAccessor.wrap(event.getMessage());\n",
    "        String username = (String) headerAccessor.getSessionAttributes().get(\"username\");\n",
    "        if (username != null){\n",
    "            log.info(\"User disconnected: {}\", username);\n",
    "            var chatMessage = ChatMessage.builder()\n",
    "                .type(MessageType.LEAVE)\n",
    "                .sender(username)\n",
    "                .build();\n",
    "            messageTemplate.convertAndSend(\"/topic/public\", chatMessage);\n",
    "        }\n",
    "    }\n",
    "}\n"
   ]
  },
  {
   "cell_type": "code",
   "execution_count": null,
   "metadata": {},
   "outputs": [],
   "source": [
    "@Controller\n",
    "public class ChatController {\n",
    "    \n",
    "    @MessageMapping(\"/chat.sendMessage\")\n",
    "    @SendTo(\"/topic/public\")\n",
    "    public ChatMessage sendMessage(@Payload ChatMessage chatMessage){\n",
    "        return chatMessage;\n",
    "    }\n",
    "\n",
    "    @MessageMapping(\"/chat.addUser\")\n",
    "    @SendTo(\"/topic/public\")\n",
    "    public ChatMessage addUser(@Payload ChatMessage chatMessage, SimpMessageHeaderAccessor headerAccessor){\n",
    "        // Add username in web socket session\n",
    "        headerAccessor.getSessionAttributes().put(\"username\", chatMessage.getSender());\n",
    "        return chatMessage;\n",
    "    }\n",
    "}\n"
   ]
  }
 ],
 "metadata": {
  "kernelspec": {
   "display_name": "Java",
   "language": "java",
   "name": "java"
  },
  "language_info": {
   "name": "java"
  }
 },
 "nbformat": 4,
 "nbformat_minor": 2
}
