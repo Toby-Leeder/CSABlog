{
 "cells": [
  {
   "cell_type": "markdown",
   "metadata": {},
   "source": [
    "---\n",
    "layout: post\n",
    "title: Insertion sort\n",
    "description: Insertion sort testing\n",
    "courses: { ToC: {week: 15} }\n",
    "type: tangibles\n",
    "---"
   ]
  },
  {
   "cell_type": "code",
   "execution_count": 12,
   "metadata": {},
   "outputs": [
    {
     "name": "stdout",
     "output_type": "stream",
     "text": [
      "5\n",
      "6\n",
      "11\n",
      "12\n",
      "13\n"
     ]
    }
   ],
   "source": [
    "\n",
    "public class Sort{\n",
    "    public static int[] test = {12, 11, 13, 5, 6};\n",
    "\n",
    "    public static void main(String[] args){\n",
    "        int[] test2 = sort(test);\n",
    "        for (int i : test2){\n",
    "            System.out.println(i);\n",
    "        }\n",
    "    }\n",
    "\n",
    "    public static int[] sort(int[] list){\n",
    "        for (int i = 0; i < list.length - 1; i++){\n",
    "            if (list[i] > list[i + 1]){\n",
    "                int temp = list[i+1];\n",
    "                list[i+1] = list[i];\n",
    "                list[i] = temp;\n",
    "                sort(list);\n",
    "            }\n",
    "        }\n",
    "        return list;\n",
    "    }\n",
    "}\n",
    "\n",
    "Sort.main(null)"
   ]
  }
 ],
 "metadata": {
  "kernelspec": {
   "display_name": "Java",
   "language": "java",
   "name": "java"
  },
  "language_info": {
   "name": "java"
  }
 },
 "nbformat": 4,
 "nbformat_minor": 2
}
