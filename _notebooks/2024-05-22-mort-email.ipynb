{
 "cells": [
  {
   "cell_type": "markdown",
   "metadata": {},
   "source": [
    "---\n",
    "toc: true\n",
    "comments: false\n",
    "layout: post\n",
    "title: Mort Email\n",
    "type: hacks\n",
    "courses: { ToC: {week: 30} }\n",
    "---"
   ]
  },
  {
   "cell_type": "markdown",
   "metadata": {},
   "source": [
    "Hello John,\n",
    "\n",
    "My name is Toby Leeder and I am reaching out to inquire regarding an internship opportunity at Nighthawk Coding Society. I am very interested in this position and wanted to reach out to ask about the possibility of an interview. First I would like to tell you a little bit more about myself. \n",
    "\n",
    "I am a graduating high school senior from Del Norte High who will be attending UC Berkeley in the fall studing Applied Mathematics with a focus in data science. Throughout my time at Del Norte I have taken two Advanced Placement computer science courses, AP CSP and AP CSA. I recieved a 5 on the AP CSP exam and have not yet recieved results for AP CSA. \n",
    "\n",
    "I have always enjoyed coding ever since discovering Scratch block coding as I was older. As I've grown, I've found great enjoyment in exploring new technologies, trying new things and learning new concepts. Within my classes I've always chosen to innovate and expand upon the given material. Rather than simply meeting expectations, I have made a conscious effort to go above and beyond, as can be seen in many of my projects that I've completed throughout these courses. \n",
    "\n",
    "One example of this is my end of the year project from my AP CSP Course, [Binary Games](https://toby-leeder.github.io/binarygames-frontend/). Within this project I worked with a teammate to create a 3d interactive space in which the user can move, and click on objects to play games as if within an escape room. To do this, I needed delve into my first new technology, the Javascript threejs library. This library essentially acted as a 3d rendering library, and from scratch we had to implement movement, create all of our models, create a tracker to detect where the user is looking, and to create a pop up with the game when the user clicks the mouse. This was all with minimal input from the teacher, making it completely our own path to discovery and completion. \n",
    "\n",
    "Another great example is my first project of the AP CSA class, Classroom Jukebox. This project was the first time I implemented a websocket, an idea that was planted in my head by my teacher almost a year before in my CSP class. Again I took the reigns on this aspect of the project, researching and discovering how to implement this new technology completeley independently. I continued this trend by utilizing the github api to pull issues from a scrum board and add them onto a github pages blog. Through this project I learned how to use AWS Secrets manager to manage secret keys as well as furthered my knowledge on how to use AWS Lambda and API Gateway. \n",
    "\n",
    "I also have great experience working with students and creating guides to support others. One perfect example of this is my job at Mathnasium which I've had for almost a year now. I recieved two promotions in less than a week and was recognized for my teaching abilities. I have learned to work with all kinds of students, from difficult five year olds who don't want to be there, to high school seniors just trying to pass their class, to 6th graders who love math to the point that they're already working on high school concepts. I have learned how to approach these students and what all of them need to learn best, experience that I would utilize in creating lesson plans and systems for them to use. I have already used this skill before through my various guides to help others trying to utilize new technologies like myself. An example of this is my [ruby guide](https://toby-leeder.github.io/CSABlog/rubyFixes), which I created to support students struggling with utilizing ruby to correctly run their website. I also created a [guide](/Users/tobyleeder/vscode/CSABlog/_notebooks/2024-05-22-mort-email.ipynb) chronocling my work with AWS to create the issues pulling system I mentioned previously. \n",
    "\n",
    "Throughout all of my projects I maintain and encourage others to use a Scrum Board in order to track our progress. Here are some of my scrum boards for [Binary Games](https://github.com/users/Toby-Leeder/projects/2/views/5), [Classroom Jukebox](https://github.com/users/aidenhuynh/projects/4), and [Nighthawk Resources](https://github.com/orgs/John-sCC/projects/1). Throughout these projects I have stepped up as a leader, creating and managing these scrum boards and ensuring that all members are not just on task, but understand what they're doing in order to be successful. \n",
    "\n",
    "I'm looking forward to hearing back from you, thank you so much for you consideration!\n",
    "\n",
    "Best\n",
    "Toby Leeder\n",
    "LinkedIn\n",
    "Github\n",
    "\n",
    "\n",
    "\n"
   ]
  }
 ],
 "metadata": {
  "language_info": {
   "name": "python"
  }
 },
 "nbformat": 4,
 "nbformat_minor": 2
}
