{
 "cells": [
  {
   "cell_type": "markdown",
   "metadata": {},
   "source": [
    "---\n",
    "layout: post\n",
    "title: CollegeBoard Quiz\n",
    "description: My notes for the collegeboard quiz\n",
    "courses: { ToC: {week: 12} }\n",
    "toc: true\n",
    "---"
   ]
  },
  {
   "cell_type": "markdown",
   "metadata": {},
   "source": [
    "### Things I looked up!\n",
    "\n",
    "- Question 4: I had to check which way integers round in java because I wasn't sure\n",
    "- Question 12: I had to learn how substring(int, int) works. You can see my testing below.\n",
    "- Question 22: I got help from Ryan and realized that it actually was the one that said variables of type book can only call book methods even though it was initialized with a child class, in order to call a function in AudioBook it would have to be typecasted to audiobook.\n",
    "- Question 23: I also got help from Ryan to understand this one."
   ]
  },
  {
   "cell_type": "code",
   "execution_count": 2,
   "metadata": {},
   "outputs": [
    {
     "name": "stdout",
     "output_type": "stream",
     "text": [
      "456\n"
     ]
    }
   ],
   "source": [
    "String string = \"0123456\";\n",
    "\n",
    "System.out.println(string.substring(4,7));"
   ]
  },
  {
   "cell_type": "markdown",
   "metadata": {},
   "source": [
    "### Corrections\n",
    "- Question 39: I missed that recur runs twice, so I got 8 instead of 16\n",
    "- "
   ]
  }
 ],
 "metadata": {
  "kernelspec": {
   "display_name": "Java",
   "language": "java",
   "name": "java"
  },
  "language_info": {
   "codemirror_mode": "java",
   "file_extension": ".jshell",
   "mimetype": "text/x-java-source",
   "name": "java",
   "pygments_lexer": "java",
   "version": "20.0.2+9"
  },
  "orig_nbformat": 4
 },
 "nbformat": 4,
 "nbformat_minor": 2
}
