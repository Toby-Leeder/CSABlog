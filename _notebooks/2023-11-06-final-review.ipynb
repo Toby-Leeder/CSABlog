{
 "cells": [
  {
   "cell_type": "markdown",
   "metadata": {},
   "source": [
    "---\n",
    "layout: post\n",
    "title: Final Review\n",
    "description: Here's my review for the entire trimester\n",
    "courses: { ToC: {week: 13} }\n",
    "type: hacks\n",
    "---"
   ]
  },
  {
   "cell_type": "markdown",
   "metadata": {},
   "source": [
    "## Websocket\n",
    "The websocket was a struggle. It definitely took me the longest to get working and I may have been in a little over my head. However, after probably around 11 hours of work, I got the websocket functional.\n",
    "\n",
    "1. The first thing I did was update the configuration files and create a branch for my websocket. [Here](https://github.com/aidenhuynh/cj_backend/commit/2044e017aa81d54471e655d274595a54a7fc48cc) is the commit for that. \n",
    "2. Then my first websocket didn't work and after not being able to figure it out for a few hours I started over from the beginning and followed a different video tutorial. \n",
    "3. Then I realized the issue was CORS allowed origins, and after not being able to figure out why the header had a duplicate \"allowed-origins\" entry, I asked Rohan Juneja and he helped me figure it out. Turns out the origins were defined within the nginx configuration and within the backend.\n",
    "4. Eventually I got it all working. Below are a few of the java files from my websocket. "
   ]
  },
  {
   "cell_type": "code",
   "execution_count": null,
   "metadata": {},
   "outputs": [],
   "source": [
    "package com.nighthawk.spring_portfolio.chat;\n",
    "\n",
    "import lombok.AllArgsConstructor;\n",
    "import lombok.Builder;\n",
    "import lombok.Getter;\n",
    "import lombok.NoArgsConstructor;\n",
    "import lombok.Setter;\n",
    "\n",
    "@Getter\n",
    "@Setter\n",
    "@AllArgsConstructor\n",
    "@NoArgsConstructor\n",
    "@Builder\n",
    "public class ChatMessage { // Each message is an object. The methods are automatically generated using the above headers.\n",
    "    private String content;\n",
    "    private String sender;\n",
    "    private MessageType type;\n",
    "}\n"
   ]
  },
  {
   "cell_type": "code",
   "execution_count": null,
   "metadata": {},
   "outputs": [],
   "source": [
    "package com.nighthawk.spring_portfolio.config;\n",
    "\n",
    "import org.springframework.context.annotation.Bean;\n",
    "import org.springframework.context.annotation.Configuration;\n",
    "import org.springframework.messaging.simp.config.MessageBrokerRegistry;\n",
    "import org.springframework.web.socket.WebSocketHandler;\n",
    "import org.springframework.web.socket.config.annotation.EnableWebSocketMessageBroker;\n",
    "import org.springframework.web.socket.config.annotation.StompEndpointRegistry;\n",
    "import org.springframework.web.socket.config.annotation.WebSocketMessageBrokerConfigurer;\n",
    "import org.springframework.web.socket.server.HandshakeInterceptor;\n",
    "import org.springframework.web.socket.server.standard.TomcatRequestUpgradeStrategy;\n",
    "import org.springframework.web.socket.server.support.DefaultHandshakeHandler;\n",
    "\n",
    "@Configuration\n",
    "@EnableWebSocketMessageBroker\n",
    "public class WebSocketConfig implements WebSocketMessageBrokerConfigurer{\n",
    "\n",
    "    public void registerStompEndpoints(StompEndpointRegistry registry) { //defines the websocket endpoint\n",
    "        registry.addEndpoint(\"/ws\")\n",
    "                .setAllowedOrigins(\"https://nighthawkcoders.github.io\", \"https://cj-backend.stu.nighthawkcodingsociety.com\",\"http://localhost:4000\", \"https://toby-leeder.github.io\", \"https://classroomjukebox.com/\")\n",
    "                .withSockJS();\n",
    "    }\n",
    "\n",
    "\n",
    "    @Override\n",
    "    public void configureMessageBroker(MessageBrokerRegistry registry){ //defines the mesage broker which directs messages to the different destinations or listeners\n",
    "        registry.setApplicationDestinationPrefixes(\"/app\");\n",
    "        registry.enableSimpleBroker(\"/topic\");\n",
    "    }\n",
    "}\n"
   ]
  },
  {
   "cell_type": "markdown",
   "metadata": {},
   "source": [
    "## Spotify API\n",
    "The other major part of the project I worked on was the spotify api. This had me learning more about authentication methods. This part was much smoother than the websocket so honestly it's not as interesting, but essentially you create a unique code and then use that code in a fetch request to the Spotify API to verify that you can use the spotify login, which the user then completes which sends an authorization token back through the frontend. "
   ]
  },
  {
   "cell_type": "markdown",
   "metadata": {},
   "source": [
    "## Search Page\n",
    "I also created the search page [here](https://github.com/aidenhuynh/cj_frontend/commit/9b14cddabbc8aa70a3e7bc9ef4644458c12cad88). "
   ]
  },
  {
   "cell_type": "markdown",
   "metadata": {},
   "source": [
    "![](../assets/images/frontendCommits.png)\n",
    "![](../assets/images/backendCommits.png)"
   ]
  },
  {
   "cell_type": "markdown",
   "metadata": {},
   "source": [
    "## Reflections\n",
    "1. I should have asked for help sooner. As soon as I showed my bug to Rohan he told me he had already seen it and was able to fix it really quickly.\n",
    "2. I needed to step up even though I wasn't the leader. I made the same mistake I made before and implemented systems without ensuring that people use them. We also didn't have clear expectations for how the actual project would function, just an idea.\n",
    "3. I should have utilized my blog better to take notes throughout rather than mainly retrospective notes. "
   ]
  }
 ],
 "metadata": {
  "kernelspec": {
   "display_name": "Java",
   "language": "java",
   "name": "java"
  },
  "language_info": {
   "name": "java"
  },
  "orig_nbformat": 4
 },
 "nbformat": 4,
 "nbformat_minor": 2
}
